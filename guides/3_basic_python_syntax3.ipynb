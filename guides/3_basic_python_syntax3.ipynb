{
 "cells": [
  {
   "cell_type": "markdown",
   "id": "4c541a9f-6798-4cdd-8ffe-8e3c05c793e4",
   "metadata": {},
   "source": [
    "# Python Data Objects\n",
    "\n",
    "Python has a number of different data objects to store information in a useful manner depending on what you are wanting to do. Here is broad list of the main data objects that are available in base Python.\n",
    "* List\n",
    "* Tuple\n",
    "* Set\n",
    "* Dictionary\n",
    "\n",
    "We've already seen a little bit about lists, but we'll devle a litte more deeper into them and the other data objects in this notebook."
   ]
  },
  {
   "cell_type": "markdown",
   "id": "7b704de5-ac37-4dc7-8452-9d31a5d42502",
   "metadata": {},
   "source": [
    "## Lists\n",
    "There are times when we want to be able to group together items and store them together. Python's most versitile construct for holding multiple items together is known as a list. Lists are mutable, meaning you can change the value of a item within the list. Lists can contain a single type of item (e.g., integers, floats, strings) or a mixed grouping.\n",
    "\n",
    "There are two ways to define a list, 1) using square brackets or 2) using the list function `list()`. For example the following two are equivalent,\n",
    "\n",
    "```python\n",
    "a = [1,2,3,4,5]\n",
    "\n",
    "b = list((1, 2.5, 'Kevin', 4, 5))\n",
    "```\n",
    "\n",
    "Just like strings, we can subset a list to get a particular element using index values (addresses) of the desired elements.\n",
    "\n",
    "```python\n",
    "print(a[2])\n",
    "print(b[:3])\n",
    "```\n",
    "Output\n",
    "```python\n",
    "3\n",
    "1, 2.5, Kevin\n",
    "```"
   ]
  },
  {
   "cell_type": "code",
   "execution_count": null,
   "id": "9c97d0b8-8828-41e2-90a8-6ecc860b47b1",
   "metadata": {},
   "outputs": [],
   "source": []
  },
  {
   "cell_type": "markdown",
   "id": "de8c2fe9-0bd5-49d1-919d-1bac99e538ec",
   "metadata": {
    "tags": []
   },
   "source": [
    "## Lists vs. Tuple\n",
    "\n",
    "A common data object in coding languages is an array. Python doesn't have a true array object, but we will see arrays through the Numpy package below. The closest thing to an array in base Python is a list. Lists are sometimes called array-like objects. Many of their properties are the same, but there are some notable differences depending on what you are trying to do. There are two ways to define a list, 1) using square brackets or 2) using the list function `list()`. For example the following two are equivalent,\n",
    "\n",
    "```python\n",
    "a = [1,2,3,4,5]\n",
    "\n",
    "a = list((1,2,3,4,5))\n",
    "```\n",
    "\n",
    "Lists are mutable objects, meaning that you can redefine individual elements.\n",
    "\n",
    "Another array-like object in Python is the Tuple. Tuples are different than lists in that they are immutable objects, meaning they can't be changed once assigned. Tuples can also be defined in two different ways, 1) using parentheses or 2) using the tuple function `tuple()`. For example, the following two tuple assignments are equivalent,\n",
    "\n",
    "```python\n",
    "b = (10,20,30,40,50)\n",
    "\n",
    "b = tuple((10,20,30,40,50))\n",
    "```\n",
    "\n",
    "REF: DeCaria Section 2.7"
   ]
  },
  {
   "cell_type": "code",
   "execution_count": null,
   "id": "eb0f88ac-f99f-43e8-b247-357445a00674",
   "metadata": {},
   "outputs": [],
   "source": [
    "# A list\n",
    "a = [1, 2, 3, 4, 5]\n",
    "print(a)"
   ]
  },
  {
   "cell_type": "code",
   "execution_count": null,
   "id": "c47590fa-10ae-4358-b5b6-1c8b4bcaed73",
   "metadata": {},
   "outputs": [],
   "source": [
    "# Try a reassignment of a list object\n",
    "a[1] = 10"
   ]
  },
  {
   "cell_type": "code",
   "execution_count": null,
   "id": "cc51c334-ce30-4807-871e-856b73034124",
   "metadata": {},
   "outputs": [],
   "source": [
    "# A tuple\n",
    "b = ('Kevin', 'Emily', 'Adam')"
   ]
  },
  {
   "cell_type": "code",
   "execution_count": null,
   "id": "69d03b59-458d-4ae0-bdce-8901c3c05ee2",
   "metadata": {},
   "outputs": [],
   "source": [
    "# Try a reassignment of a tuple object\n",
    "b[1] = 'Matt'"
   ]
  },
  {
   "cell_type": "markdown",
   "id": "5d598e5c-fb2f-44a6-9f84-365937ea955f",
   "metadata": {},
   "source": [
    "Both lists and tuples can contain different data types in the same variable. This can be adventageous at times."
   ]
  },
  {
   "cell_type": "code",
   "execution_count": null,
   "id": "bff9f04a-308e-4115-a042-827561627cb1",
   "metadata": {},
   "outputs": [],
   "source": []
  },
  {
   "cell_type": "markdown",
   "id": "f145c964-a944-407e-8c8c-dd594284f67a",
   "metadata": {},
   "source": [
    "## List Methods\n",
    "There are a number of methods that are available for list objects including: ```append(), copy(), count(), index()```.\n",
    "\n",
    "Examples using `example_list = [12,37,24,43,89,2,43,100]`\n",
    "* append an item: `example_list.append(5)`\n",
    "* copy the list: `list_2 = list.copy()`\n",
    "* count how many elements in the list are this values: `list.count(43)`\n",
    "* what is the earliest index where this value occurs: `list.index(43)`\n",
    "\n",
    "https://docs.python.org/3/tutorial/datastructures.html#more-on-lists"
   ]
  },
  {
   "cell_type": "code",
   "execution_count": null,
   "id": "bc0dc8f1-7b17-4534-a67a-83c1ed001312",
   "metadata": {},
   "outputs": [],
   "source": [
    "# List append method\n",
    "a.append(100)\n",
    "print(a)"
   ]
  },
  {
   "cell_type": "markdown",
   "id": "fefef925-de31-44c1-92ae-cd3834e47251",
   "metadata": {},
   "source": [
    "## Tuple Methods\n",
    "\n",
    "There are only two methods available for the tuple object: ```count(), index()```.\n",
    "- You can't change a tuple, so you can't append to it or copy it.\n",
    "\n",
    "https://docs.python.org/3/tutorial/datastructures.html#tuples-and-sequences\n",
    "\n",
    "REF: DeCaria Section 2.4 \"Objects, Attributes, and Methods\""
   ]
  },
  {
   "cell_type": "code",
   "execution_count": null,
   "id": "e744f823-b253-4882-b080-611f9c9329f6",
   "metadata": {},
   "outputs": [],
   "source": [
    "# Tuple index method\n",
    "indx = tmpf.index(84)\n",
    "print(indx)"
   ]
  },
  {
   "cell_type": "markdown",
   "id": "affeb945-57bc-4009-a1b6-90a728216214",
   "metadata": {},
   "source": [
    "### Beware of Math with Lists and Tuples\n",
    "\n",
    "Math works VERY differently! A multiplication creates that number of copies within the list or tuple and concatenates them to the object."
   ]
  },
  {
   "cell_type": "code",
   "execution_count": null,
   "id": "04c0431d-ea49-4c80-b7a9-73b1dc7ae7a0",
   "metadata": {},
   "outputs": [],
   "source": [
    "# Multiple a list or tuple by 2\n",
    "print(a*2)"
   ]
  },
  {
   "cell_type": "markdown",
   "id": "ca5acb92-6b32-4384-9226-25f063e20aa8",
   "metadata": {},
   "source": [
    "But this can be useful! Let's say you want to create a list of values that represent each month. As you run later code, you will store the values in the correct spot in the list. Well, there are two ways you could create this initial list.\n",
    "1. `monthly_values = [0,0,0,0,0,0,0,0,0,0,0,0,]`\n",
    "2. `monthly_values = [0]*12`\n",
    "\n",
    "How might you create a list like this to represent each day of the year? Or each latitude in the northern hemisphere?"
   ]
  },
  {
   "cell_type": "code",
   "execution_count": 1,
   "id": "1fbbe594-48bc-41ac-a87b-a482899eb264",
   "metadata": {},
   "outputs": [],
   "source": [
    "daily_values = []\n",
    "latitude_values = []"
   ]
  },
  {
   "cell_type": "markdown",
   "id": "0d8960b7-59d2-4a97-ba66-e98575c5fcec",
   "metadata": {},
   "source": [
    "## Nested Lists and Tuples\n",
    "\n",
    "Nested Lists (list of lists) are accessed in an odd way using separate square bracket slicing for each dimension of the list.\n",
    "\n",
    "For the following 2D list we want to access the first row, from position two to the end. The subsetting would work as follows\n",
    "```python\n",
    "list2D = [[1, 2, 3, 4, 5], [6, 7, 8, 9, 10]]\n",
    "print(list2D[0][2:])\n",
    "```\n",
    "Output\n",
    "```\n",
    "[3, 4, 5]\n",
    "```"
   ]
  },
  {
   "cell_type": "code",
   "execution_count": null,
   "id": "c3560d6c-6a99-437c-9495-2319d5cb1d38",
   "metadata": {},
   "outputs": [],
   "source": []
  },
  {
   "cell_type": "markdown",
   "id": "ca76fb9d-10e2-46a5-b0f6-11e7dd1fa895",
   "metadata": {},
   "source": [
    "If you have a long list of lists, you can put each sublist on a new line to make it more readable.\n",
    "\n",
    "```python\n",
    "    list2D = [[0,1,2,3,4],\n",
    "              [10,11,12,13,14],\n",
    "              [20,21,22,23,24]\n",
    "             ]\n",
    "```\n",
    "Note the closing bracket for the list is on its own line. This also helps your code be readable."
   ]
  },
  {
   "cell_type": "code",
   "execution_count": null,
   "id": "eb6aa43e-8d02-4355-9ff7-1b065ae8c185",
   "metadata": {},
   "outputs": [],
   "source": []
  },
  {
   "cell_type": "markdown",
   "id": "3b674464-7aab-4f9e-8d49-f82505836244",
   "metadata": {},
   "source": [
    "## Dictionaries\n",
    "\n",
    "Python has the ability to create a mappable data structure, which is called a dictionary. In addition to creating a dictionary yourself, many read methods will result in a dictionary. The great thing about a dictionary is that you are able to reference data with a string (or key) as opposed to just an index value. This is very powerful for keeping track of a number of different values or lists within a dataset.\n",
    "\n",
    "A dictionary is defined in one of two ways, 1) with curly brackets or 2) the ```dict()``` function. When you define the dictionary, you are linking a key (name) to a value (or list of values).\n",
    "\n",
    "Let's say you have two lists that should go into the same dataset.\n",
    "```python\n",
    "hours = [0,1,2,3,4,5,6,7,8,9,10,11,12,13,14,15,16,17,18,19,20,21,22,23]\n",
    "stations = ['VPZ', 'GYY', 'ORD', 'MDW', 'RFD']\n",
    "```\n",
    "We can create a dictionary called `data`, and then create a key that we associate with each of the lists. Then, we associate the keys with the values using the general syntax `dictionary = {'key_1':'value_1','key_2':'value_2'}`. For our dataset, we actually have the lists saved with variable names, so creating our dictionary looks like:\n",
    "```python\n",
    "data = {'times': hours, 'stn': stations}\n",
    "```\n",
    "To get the values associated with that key, we have to \"open the dictionary\" and \"find the key.\" In code, that looks like printing the `dictionary['key_1']`. To print the list of stations:\n",
    "```python\n",
    "print(data['stn'])\n",
    "```\n",
    "Output:\n",
    "```\n",
    "['VPZ', 'GYY', 'ORD', 'MDW', 'RFD']\n",
    "```\n",
    "There are a number of important methods attached to a dictionary object including: `.clear()`, `.copy()`, `.keys()`, and `.values()`\n",
    "\n",
    "https://docs.python.org/3/tutorial/datastructures.html#dictionaries\n",
    "\n",
    "REF: DeCaria Section 2.8"
   ]
  },
  {
   "cell_type": "code",
   "execution_count": null,
   "id": "8d1b726f-455b-4729-8ea7-5dc35706d654",
   "metadata": {},
   "outputs": [],
   "source": [
    "units = {'tmpf': 'F', 'dwpf': 'F', 'pressure': 'hPa'}\n",
    "long_names = {'tmpf': 'Temperature', 'dwpf': 'Dewpoint', 'pressure': 'Pressure'}"
   ]
  },
  {
   "cell_type": "code",
   "execution_count": 2,
   "id": "590d015e-8d92-4997-91ba-58e0ba5d813a",
   "metadata": {},
   "outputs": [],
   "source": [
    "# Print a statement that attaches the appropriate units to a pressure value of 1013.25.\n",
    "\n",
    "# Print all the keys in long_names.\n",
    "\n",
    "# Print all the values in long_names."
   ]
  },
  {
   "cell_type": "markdown",
   "id": "059790cd-8525-4f02-b230-d6dce5daf6dd",
   "metadata": {},
   "source": [
    "## Sets\n",
    "Python also includes a data type for sets. A set is an unordered collection with no duplicate elements. Basic uses include membership testing and eliminating duplicate elements. Set objects also support mathematical operations like union, intersection, difference, and symmetric difference.\n",
    "\n",
    "Curly braces `{}` or the `set()` function can be used to create sets. But it is very common to start with a list and turn it into a set to remove duplicate elements.\n",
    "```python\n",
    "soil_samples = ['clay', 'sand', 'loam', 'silt', 'clay', 'peat', 'sand', 'chalk', 'loam', 'silt']\n",
    "soil_set = set(soil_samples)\n",
    "print(soil_set)\n",
    "```\n",
    "Output\n",
    "```\n",
    "{'silt', 'clay', 'loam', 'peat', 'chalk', 'sand'}\n",
    "```\n",
    "Note:\n",
    "* To create a set with items in it, the curly braces can be used. Python knows that if you use a colon to match keys and values then you are creating a dictionary. But if it just looks like a list, then this is a set.\n",
    "* To create an empty set you have to use `set()`. If you try to write `new_set = {}`, you will actually create an empty dictionary.\n",
    "\n",
    "https://docs.python.org/3/tutorial/datastructures.html#sets\n",
    "\n",
    "REF: DeCaria 2.9"
   ]
  },
  {
   "cell_type": "code",
   "execution_count": null,
   "id": "b11c8c10-ffa4-4a0f-96dc-3ca6f6a4724d",
   "metadata": {},
   "outputs": [],
   "source": [
    "# Create a list with some duplicate elements.\n",
    "\n",
    "# Turn it into a list with duplicate elements removed.\n",
    "\n",
    "# Try to append to a set.\n",
    "\n",
    "# Print element 2 from the set."
   ]
  },
  {
   "cell_type": "markdown",
   "id": "81aac2d9-fb4e-4526-94b1-3828e80d5761",
   "metadata": {},
   "source": [
    "## Numpy Arrays\n",
    "\n",
    "A data object that is very import to scientists using computers is to have a true array, meaning one that we can do math on and have it automatically calculate element by element. Unfortunately, lists won't work as we have seen, so we need to bring in a third-party package (module) that contains this type of data object. Through the course of the semester we will interact with many more data objects that will be useful for our work in Earth Systems Science.\n",
    "\n",
    "The Numpy module is a powerful package that includes not only a true array object, but a number of important calculations that can operate on these arrays in a time efficient manner. We'll dig deeper into all that Numpy as to offer in the next unit, but for now we want to introduce importing a third-party package and the development of a Numpy array."
   ]
  },
  {
   "cell_type": "markdown",
   "id": "82030c99-ec35-446d-81ab-d686346d0d19",
   "metadata": {},
   "source": [
    "### Importing a Module\n",
    "\n",
    "There are many, many, many packages that have been developed to work off of the main Python syntax core, which is relatively small in and of itself. To gain access to those packages, they need to be imported to attach the methods contained within to your notebook/script. There are some common ways to import many packages and we'll use the most common methods over the course of this semester.\n",
    "\n",
    "The main function for bringing in a package is `import`. There are variations on how to bring in a module or just a particular function, which we'll highlight as we go through the semester.\n",
    "\n",
    "To import Numpy we'll use the import function and then give it an alias, or shorthand name, that we'll use to reference the particular components of that module. By doing so we'll protect ourselves against having two functions with the same name with one silently \"overwriting\" the other.\n",
    "\n",
    "```python\n",
    "import numpy as np\n",
    "```\n",
    "\n",
    "This is the most common way you'll see the Numpy module imported into a notebook or script."
   ]
  },
  {
   "cell_type": "code",
   "execution_count": null,
   "id": "34e30413-4033-485d-ab4c-a04bc3ac0672",
   "metadata": {},
   "outputs": [],
   "source": [
    "import numpy as np"
   ]
  },
  {
   "cell_type": "markdown",
   "id": "3975cb27-749d-4763-804e-39c230766188",
   "metadata": {},
   "source": [
    "### Create simple array\n",
    "\n",
    "The function `array` can take a Python list that contains all of the same type (e.g., integers, floats, strings). To access the function we'll need to use the alias that we created when importing the module `np`."
   ]
  },
  {
   "cell_type": "code",
   "execution_count": null,
   "id": "c745ceda-e9f6-4def-8052-7b0bc6ce8c4c",
   "metadata": {},
   "outputs": [],
   "source": [
    "a_array = np.array([1, 2, 3, 4, 5])"
   ]
  },
  {
   "cell_type": "markdown",
   "id": "3816d85b-8c50-4d57-ad3b-fcf68643dc8f",
   "metadata": {},
   "source": [
    "Now with this \"true\" array, we can do math and get the expected output with it operating on each element and not doing some concatenation, which is what we had with native Python lists."
   ]
  },
  {
   "cell_type": "code",
   "execution_count": 3,
   "id": "f1517200-9a14-4a6f-9a2d-f39a30689381",
   "metadata": {},
   "outputs": [],
   "source": [
    "# print a_array\n",
    "\n",
    "# Try to multiply the array by 2, like a_array*2\n"
   ]
  },
  {
   "cell_type": "code",
   "execution_count": null,
   "id": "852255e0-0911-48f3-831d-926ff04804a0",
   "metadata": {},
   "outputs": [],
   "source": []
  }
 ],
 "metadata": {
  "kernelspec": {
   "display_name": "Python 3 (ipykernel)",
   "language": "python",
   "name": "python3"
  },
  "language_info": {
   "codemirror_mode": {
    "name": "ipython",
    "version": 3
   },
   "file_extension": ".py",
   "mimetype": "text/x-python",
   "name": "python",
   "nbconvert_exporter": "python",
   "pygments_lexer": "ipython3",
   "version": "3.12.4"
  }
 },
 "nbformat": 4,
 "nbformat_minor": 5
}
