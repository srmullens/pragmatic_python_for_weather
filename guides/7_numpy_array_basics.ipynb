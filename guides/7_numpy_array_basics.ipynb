{
 "cells": [
  {
   "cell_type": "markdown",
   "id": "55eb8607-07e5-4118-b910-5b40111a1f15",
   "metadata": {},
   "source": [
    "# Scientific Python\n",
    "\n",
    "Base Python is great and has been around for 30 years. It first appeared in 1991. The power of python lies within the use of community built modules that lay on top of the core python programming language. These modules are abstract code designed to maximize the usefulness of Object Oriented Programing (OOP) tools by providing advanced functions and methods to the objects in a program. What makes it powerful for scientific applications are the various libararies that have been written to work with scientific (and other) datasets. There is a great [graphic](https://fabienmaussion.info/acinn_python_workshop/figures/scipy_ecosystem.png) developed by Jake Vanderplas in 2015 and reproduced below to illustrate the structure of scientific Python libraries. At the base is the language itself, then the first tier libraries that are built off of the language, then packages that build upon both the language and the first tier libraries, and so on.\n",
    "\n",
    "![scientific python](https://fabienmaussion.info/acinn_python_workshop/figures/scipy_ecosystem.png)"
   ]
  },
  {
   "cell_type": "markdown",
   "id": "d63b75d6-ed65-4ff9-af05-27e620ee5ad0",
   "metadata": {},
   "source": [
    "## Arrays in Python using the Numpy Library\n",
    "\n",
    "Numpy is a key library used in meteorology. It deals well (and quickly) with array manipulations. Arrays work similar to those in other languages like C++ and Fortran. In Python, they will often feel similar to lists, but the differences can be both advantageous and frustrating. This notebook introduces the numpy module and many of its useful functions, as well as continuing to develop your Python language skills.\n",
    "\n",
    "Numpy Source: https://numpy.org/doc/stable/user/index.html  \n",
    "Numpy Quickstart: https://numpy.org/doc/stable/user/quickstart.html"
   ]
  },
  {
   "cell_type": "markdown",
   "id": "ca5f850a-6ff2-49c9-a775-387c6623a689",
   "metadata": {},
   "source": [
    "## Importing Libraries/Modules\n",
    "In order to use a library (or module, or package) within your program you need to first tell the computer to bring it in! The way that this happens is with an import statement. Numpy functions are called with `numpy.function_name()`. This is good because we don't want any similar named functions (e.g., a maximum function) from different modules to overlap! However, it is common to give commonly used modules a handle (or pseudonym) so we can abbreviate it in the code. The common practice is to call the handle for the numpy module \"np\" so we can write `np.function_name()`.\n",
    "In the future, xarray is often abbreviated \"xr\". Matplotlib's pyplot is often abbreviated \"plt\". Statsmodels is often called \"sm\".\n",
    "\n",
    "An example of an import statement for numpy is below. "
   ]
  },
  {
   "cell_type": "code",
   "execution_count": null,
   "id": "5e9b2347-e045-4e47-ae41-bdf318a7596e",
   "metadata": {},
   "outputs": [],
   "source": [
    "import numpy as np"
   ]
  },
  {
   "cell_type": "markdown",
   "id": "b81217f1-b53e-4b31-a63f-0ef4937ec3b1",
   "metadata": {},
   "source": [
    "If you have run the above cell, it appears that nothing has happened, but actually a lot has. You have just imported all of the functions that are contained within the numpy module, sitting in the background ready for you to get to work on some data!"
   ]
  },
  {
   "cell_type": "markdown",
   "id": "a04d969b-6e59-4433-b494-702ddbe5e2b9",
   "metadata": {},
   "source": [
    "## Creating Arrays\n",
    "The ndarray object is a general array object that works for 1D, 2D, and higher dimensional arrays. The most common arrays are 1D (time series), 2D (table), 3D (cube), 4D (series of cubes, often changing over time). In Numpy, each dimension of an array is called an axis.\n",
    "\n",
    "How can we make a Numpy array? We write `np.array()` and put our list in the parentheses. Try it here:"
   ]
  },
  {
   "cell_type": "code",
   "execution_count": null,
   "id": "6f2061ce-cb48-445c-942f-a3f5ba35d0fb",
   "metadata": {},
   "outputs": [],
   "source": [
    "dist = [10, 20, 30, 40, 50]\n"
   ]
  },
  {
   "cell_type": "markdown",
   "id": "94c99fe1-71bc-4070-8c1e-7cf9fe4386fe",
   "metadata": {},
   "source": [
    "Making a 2D array from a nested list."
   ]
  },
  {
   "cell_type": "code",
   "execution_count": null,
   "id": "918f2fa7-da85-481e-b9ff-29a06134807e",
   "metadata": {},
   "outputs": [],
   "source": [
    "list2d = [[41.5, -88.1],\n",
    "          [42, -101.5],\n",
    "          [55, -91.3],\n",
    "          [22.5, -142.2]]\n"
   ]
  },
  {
   "cell_type": "markdown",
   "id": "822eccd3-191b-417f-aeb1-1fd72bf9d1b7",
   "metadata": {},
   "source": [
    "There are other ways to create lists when you don't have specific numbers to put in it right away but know what shape and size you want. Try using `np.arange()`, `np.zeros()`, `np.ones()`, and `np.empty()` and see what you get.  \n",
    "\n",
    "You can also use `np.arange()`, which works similar to the `range()` function in base Python.  \n",
    "\n",
    "You can also look up and try using `.reshape()` on an array to reorganize it."
   ]
  },
  {
   "cell_type": "code",
   "execution_count": null,
   "id": "d922aad0-bae2-4b7e-a36a-b056c39aac2f",
   "metadata": {},
   "outputs": [],
   "source": []
  },
  {
   "cell_type": "markdown",
   "id": "dc832d23-c332-4f2b-9d01-1e0a8e97d5dd",
   "metadata": {},
   "source": [
    "## Numpy Object\n",
    "Unlike a list, all the elements in an array must be the same type. This is what allows Numpy to be fast. With every element being floats or ints or complex or boolean, this allows numpy to perform mathematical operations on every array element at once. With lists, the operations must happen one element at a time. So math with large arrays saves a lot of time compared to math with large lists.\n",
    "\n",
    "Valid Object Types:\n",
    "* `np.float64` - floating point number.\n",
    "* `np.int64` - integer number\n",
    "* `np.complex` - complex number\n",
    "* `np.bool` - boolean (True/False)\n",
    "\n",
    "With your arrays above, use `.dtype` (for data type) and see what you get. Change the array elements to see how you can change its dtype result.\n",
    "```python\n",
    "e = d.dtype\n",
    "```\n",
    "You can change the type of an array with a simple method call, `.astype()`. \n",
    "\n",
    "```python\n",
    "e = d.astype('float64')\n",
    "```\n",
    "Note that `.astype('float')` also works to change values to `np.float64`. The same is true for `.astype('int')` and `np.int64`."
   ]
  },
  {
   "cell_type": "code",
   "execution_count": null,
   "id": "2365c108-a847-48af-b91f-e13bc5f45919",
   "metadata": {},
   "outputs": [],
   "source": []
  },
  {
   "cell_type": "markdown",
   "id": "60d5df55-8c8c-4e0d-abd3-031b343157d2",
   "metadata": {},
   "source": [
    "## Working with Data with Numpy helps\n",
    "\n",
    "While seeing the data printed out is great, its hard to determine how the data is actually stored. Luckily for us, numpy has some great functions that we can use to investigate the arrays. One of the most helpful is attribute attached to a numpy array called [`shape`](https://docs.scipy.org/doc/numpy/reference/generated/numpy.ndarray.shape.html).\n",
    "\n",
    "REF: DeCaria Chapter 7\n",
    "\n",
    "Use `.shape`, `.ndim`, and `.size` to see what they reveal."
   ]
  },
  {
   "cell_type": "code",
   "execution_count": null,
   "id": "09fc5923-d528-4e73-87e4-3afe4c319be9",
   "metadata": {},
   "outputs": [],
   "source": [
    "# Print object shape attribute\n"
   ]
  },
  {
   "cell_type": "markdown",
   "id": "9907053c-95dc-484d-919f-4e13695c2ec2",
   "metadata": {},
   "source": [
    "The <span style=\"font-family:Courier\">**shape**</span> attribute gives us a tuple value that tells us about the shape of the array. Starting from the outermost set of `[ ]`, the numbers tell you how many elements are in each level of the array. If the array is 2D, two numbers will be given, which we often think of as rows and columns, or `[row, col]` So numpy reads the data into an array where the first element is the row index and the second is the column index.\n",
    "\n",
    "If you want to change the shape of an array, you can do that. Test this by using `.reshape`, `.resize`, `.flat`, and `.ravel` on a large array."
   ]
  },
  {
   "cell_type": "code",
   "execution_count": null,
   "id": "7fef2aab-2297-4142-8597-34732810aac7",
   "metadata": {},
   "outputs": [],
   "source": [
    "big_array = np.array([[3., 7., 3., 4.],\n",
    "                      [1., 4., 2., 2.],\n",
    "                      [7., 2., 4., 9.]])"
   ]
  },
  {
   "cell_type": "markdown",
   "id": "8d272a8f-4e44-4707-8f51-141b09d79b16",
   "metadata": {},
   "source": [
    "## Slicing arrays\n",
    "But we don't have to print out the whole array at one time. We can slice and dice the data any way that we desire using an array call and telling the program what element(s) we want out of our array.\n",
    "\n",
    "### NOTE: Numpy and Python use zero-based arrays\n",
    "This is done because the number line actually goes from zero to nine [0,1,2,3,4,5,6,7,8,9] and **_not_** [1,2,3,4,5,6,7,8,9,10]\n",
    "\n",
    "So.... <br> <span style=\"font-family:Courier\">\n",
    "1st element -> 0 <br>\n",
    "2nd element -> 1 <br>\n",
    "3rd element -> 2 <br>\n",
    ". <br>\n",
    ". <br>\n",
    ". <br>\n",
    "nth element -> n-1 <br> </span>\n",
    "\n",
    "REF: DeCaria Section 7.7"
   ]
  },
  {
   "cell_type": "code",
   "execution_count": null,
   "id": "1dc7b583-90d9-4cc7-91d0-51d4be2b8488",
   "metadata": {},
   "outputs": [],
   "source": [
    "temps = np.array([80, 74, 72, 71, 69, 62, 58, 55, 61, 62, 64, 63])\n",
    "\n",
    "# Given the temps array, print the temperature that is 62.\n"
   ]
  },
  {
   "cell_type": "code",
   "execution_count": null,
   "id": "d598beaf-43e7-4322-9e85-e82f0a5caeb9",
   "metadata": {},
   "outputs": [],
   "source": [
    "# Update the temperature at the 6th element of the temp array to be 60\n"
   ]
  },
  {
   "cell_type": "code",
   "execution_count": null,
   "id": "eaa06ee3-6887-47df-a569-49d4f02e02f8",
   "metadata": {},
   "outputs": [],
   "source": [
    "locations = [[41.5, -88.1],\n",
    "             [42, -101.5],\n",
    "             [55, -91.3],\n",
    "             [22.5, -142.2]]\n",
    "city_locations = np.array(locations)\n",
    "\n",
    "# Given the 2D array, where each row contains a lat/lon location of a city, print the longitude of the third city in the array.\n"
   ]
  },
  {
   "cell_type": "markdown",
   "id": "3b417c0b-5e0e-4728-b4e8-5b0cfb668230",
   "metadata": {},
   "source": [
    "## Array range operation\n",
    "We can also specify a range of values to use, instead of all or just a single element. However, we must note the Python behavior for this action, which we already saw in a previous lecture with the range function. To summarize:\n",
    "\n",
    "<span style=\"font-family:Courier\">\n",
    "[0:2] is 0, 1    ->  mathematically we would write the set of numbers as [0,2) <br>\n",
    "[0:3] is 0, 1, 2 ->  mathematically we would write the set of numbers as [0,3) <br>\n",
    "[1:4] is 1, 2, 3 ->  mathematically we would write the set of numbers as [1,4) <br>\n",
    "</span>\n",
    "\n",
    "This can be used in one or both (or for however many elements) that the array contains."
   ]
  },
  {
   "cell_type": "code",
   "execution_count": null,
   "id": "5bec7895-f4cf-4c2a-9b4a-30699dd385f4",
   "metadata": {},
   "outputs": [],
   "source": [
    "# Print the first five values from the temps array\n"
   ]
  },
  {
   "cell_type": "code",
   "execution_count": null,
   "id": "b5fb1c27-9aa3-48f8-a1a2-7171510613df",
   "metadata": {},
   "outputs": [],
   "source": [
    "# Print the lat/lon locations for the second and third cities from the city_locations array\n"
   ]
  },
  {
   "cell_type": "code",
   "execution_count": null,
   "id": "8bbc9869-8ed8-4ac7-be1f-b4b46bd6077f",
   "metadata": {},
   "outputs": [],
   "source": [
    "# Advanced: Create a 2D array.\n",
    "# Axis 1 should represent 1950-1999.\n",
    "# Axis 2 should contain a list of 1-12, which are the months in the year.\n",
    "# Now slice the array so it only contains June, July, August for 1960-1980. Print the result.\n"
   ]
  },
  {
   "cell_type": "markdown",
   "id": "d25e69a2-9046-401e-9e18-0bd0f2bab99a",
   "metadata": {},
   "source": [
    "## Mathematical Operations with Arrays\n",
    "\n",
    "The power of Numpy arrays is in the ability to do \"vectoried\" mathematical operations. The idea of vectorized operations means that we don't have to loop over each element of a list separately to compute new values. Instead, Numpy will do that implicitly in the background and appear to operate on all elements simultaneously. For example,\n",
    "\n",
    "Traditional program looping:\n",
    "```python\n",
    "%%timeit\n",
    "n = 1000000\n",
    "d = 1000*np.random.random(n) - 500\n",
    "diff = np.zeros(n-1)\n",
    "\n",
    "for i in range(0, len(diff)):\n",
    "    diff[i] = d[i+1] - d[i]\n",
    "```\n",
    "```\n",
    "300 ms ± 10.4 ms per loop (mean ± std. dev. of 7 runs, 1 loop each)\n",
    "```\n",
    "Python Vectorized Calculation (implicit looping)\n",
    "```python\n",
    "%%timeit\n",
    "diff[0:n-1] = d[1:n] - d[0:n-1]\n",
    "```\n",
    "```\n",
    "3.14 ms ± 35.4 µs per loop (mean ± std. dev. of 7 runs, 100 loops each)\n",
    "```\n",
    "The implicit looping with Numpy is 100 time faster than running a loop!\n",
    "\n",
    "\n",
    "All of the common mathematical operations from Python work on Numpy arrays. The operators for addition, subtraction, multiplication, division, exponentiation, etc. are all the same.\n",
    "\n",
    "```python\n",
    "# Exponent example: Raise each element to the second power\n",
    "x = np.array(list(range(-5, 6)))\n",
    "y = x**2\n",
    "print(y)\n",
    "```\n",
    "Output:\n",
    "```\n",
    "[25 16 9 4 1 0 1 4 9 16 25]\n",
    "```"
   ]
  },
  {
   "cell_type": "code",
   "execution_count": null,
   "id": "3cb0af4f-91d9-408c-9fd3-eada71e8fa9b",
   "metadata": {},
   "outputs": [],
   "source": [
    "# Add 10 to the temps array and print array to screen\n"
   ]
  },
  {
   "cell_type": "code",
   "execution_count": null,
   "id": "87327ff6-f732-4193-8dbb-d6ff9b7c4ddd",
   "metadata": {},
   "outputs": [],
   "source": [
    "# Divide the temps array by 2 and print array to screen\n"
   ]
  },
  {
   "cell_type": "code",
   "execution_count": null,
   "id": "ed394a94-9b70-48f0-8a48-af309cd72958",
   "metadata": {},
   "outputs": [],
   "source": [
    "# Multiply the 3rd element of the temps array by 1.25 and print array to screen\n"
   ]
  },
  {
   "cell_type": "code",
   "execution_count": null,
   "id": "7e51cef9-5573-44c2-89b2-c0544f25357d",
   "metadata": {},
   "outputs": [],
   "source": [
    "# Subtract 12.2 from the temps array and print array to screen\n"
   ]
  },
  {
   "cell_type": "code",
   "execution_count": null,
   "id": "ab64cade-e173-49db-8a3b-1018a24078fa",
   "metadata": {},
   "outputs": [],
   "source": [
    "# Add one degree of latitude to the city_locations array and print array to screen\n"
   ]
  },
  {
   "cell_type": "markdown",
   "id": "5684a049-5138-4ab4-b0ac-b2d8bcf9f301",
   "metadata": {},
   "source": [
    "### Comparison operators\n",
    "\n",
    "Test comparing your array to various thresholds. For example, to find all elements less than zero, you can just type `a<0`. Test other comparison operators on your arrays. "
   ]
  },
  {
   "cell_type": "code",
   "execution_count": null,
   "id": "af8c844e-0917-4c5d-8d15-a6835d94033f",
   "metadata": {},
   "outputs": [],
   "source": []
  },
  {
   "cell_type": "code",
   "execution_count": null,
   "id": "dcb02e8d-2aa4-4437-bf8f-2b2495d8f94e",
   "metadata": {},
   "outputs": [],
   "source": []
  },
  {
   "cell_type": "markdown",
   "id": "39e27822-c003-49e0-b4d8-2b59b750ad46",
   "metadata": {
    "tags": []
   },
   "source": [
    "## Exercise\n",
    "Create a Numpy array from a list of values representing five exam grades of 78, 83, and 92. After you have created the array, add a five point curve to the first grade, add a two point curve to the second grade, and calculate the average exam grade after the curves were applied."
   ]
  },
  {
   "cell_type": "code",
   "execution_count": null,
   "id": "9a38198c-e244-4ffd-a6b1-434752c4d801",
   "metadata": {},
   "outputs": [],
   "source": []
  },
  {
   "cell_type": "code",
   "execution_count": null,
   "id": "46211d64-f3ab-4d97-9a8f-bad685994656",
   "metadata": {},
   "outputs": [],
   "source": []
  }
 ],
 "metadata": {
  "kernelspec": {
   "display_name": "Python 3 (ipykernel)",
   "language": "python",
   "name": "python3"
  },
  "language_info": {
   "codemirror_mode": {
    "name": "ipython",
    "version": 3
   },
   "file_extension": ".py",
   "mimetype": "text/x-python",
   "name": "python",
   "nbconvert_exporter": "python",
   "pygments_lexer": "ipython3",
   "version": "3.12.4"
  }
 },
 "nbformat": 4,
 "nbformat_minor": 5
}
