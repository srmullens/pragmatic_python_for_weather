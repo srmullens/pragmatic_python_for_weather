{
 "cells": [
  {
   "cell_type": "markdown",
   "metadata": {},
   "source": [
    "# The Skew-T Log-p Diagram\n"
   ]
  },
  {
   "cell_type": "code",
   "execution_count": null,
   "metadata": {},
   "outputs": [],
   "source": [
    "from datetime import datetime\n",
    "\n",
    "import matplotlib.pylab as plt\n",
    "from mpl_toolkits.axes_grid1.inset_locator import inset_axes\n",
    "import metpy.calc as mpcalc\n",
    "from metpy.plots import Hodograph, SkewT    # NEW\n",
    "from metpy.units import units, pandas_dataframe_to_unit_arrays\n",
    "import numpy as np\n",
    "from siphon.simplewebservice.wyoming import WyomingUpperAir "
   ]
  },
  {
   "cell_type": "code",
   "execution_count": null,
   "metadata": {},
   "outputs": [],
   "source": [
    "date = datetime(2011, 4, 27, 0)\n",
    "station = 'BMX'\n",
    "df = WyomingUpperAir.request_data(date, station)\n",
    "data_with_units = pandas_dataframe_to_unit_arrays(df)\n",
    "\n",
    "# Only want to pull in data up to 100 mb, we can \n",
    "# use a boolean array to choose on the desired values\n",
    "i_p100 = data_with_units['pressure'] >= 100 * units.hPa\n",
    "\n",
    "# Subset pressure and read in other data to only 100 mb\n",
    "p = data_with_units['pressure'][i_p100]\n",
    "T = data_with_units['temperature'][i_p100]\n",
    "Td = data_with_units['dewpoint'][i_p100]\n",
    "u = data_with_units['u_wind'][i_p100]\n",
    "v = data_with_units['v_wind'][i_p100]"
   ]
  },
  {
   "cell_type": "markdown",
   "metadata": {},
   "source": [
    "## Plotting the Skew-T\n",
    "\n",
    "MetPy has the ability to make a few specialty plots (with matplotlib as a backend). The skew-T plots are relatively easy to do with only a few lines to plot the key variables and lines on the plot. The main Class that we have to draw a sounding is the `SkewT` object. Here we have rotated the axes and have the ability to draw lines with the `skew.plot()` method, draw wind barbs with the `skew.plot_barbs` method and even plot the special lines of dry adiabats, moist adiabats, and mixing ratio.\n",
    "\n",
    "https://unidata.github.io/MetPy/latest/api/generated/metpy.plots.SkewT.html#metpy.plots.SkewT"
   ]
  },
  {
   "cell_type": "code",
   "execution_count": null,
   "metadata": {},
   "outputs": [],
   "source": [
    "fig = plt.figure(figsize=(10, 10))\n",
    "\n",
    "# Change default to be better for skew-T\n",
    "# We imported SkewT from metpy.plots above.\n",
    "skew = SkewT(fig, rotation=45)\n",
    "\n",
    "# Plot the data using normal plotting functions, in this case using\n",
    "# log scaling in Y, as dictated by the typical meteorological plot\n",
    "skew.plot(p, T, 'r', lw=2)\n",
    "skew.plot(p, Td, 'g', lw=2)\n",
    "#skew.plot_barbs(p, u, v)\n",
    "\n",
    "# Add the relevant special lines\n",
    "#skew.plot_dry_adiabats()\n",
    "#skew.plot_moist_adiabats()\n",
    "#skew.plot_mixing_lines()\n",
    "\n",
    "#skew.ax.set_ylim(1000,100)\n",
    "#skew.ax.set_xlim(-50,50)\n",
    "\n",
    "# Set title using the date and station variables directly\n",
    "#plt.title(f'{date:%H UTC %d %B %Y} at K{station}')\n",
    "\n",
    "# Show the plot\n",
    "plt.tight_layout()\n",
    "plt.show()"
   ]
  },
  {
   "cell_type": "markdown",
   "metadata": {},
   "source": [
    "### Refined Skew-T Plots\n",
    "\n",
    "Draw better dry adiabats, moist adiabats, and mixing ratio lines (my defaults).\n",
    "\n",
    "https://unidata.github.io/MetPy/latest/api/generated/metpy.plots.SkewT.html#metpy.plots.SkewT\n",
    "\n",
    "Add text and markers to the plot using the `text` and `plot` methods available on the skew-T object main axes `skew.ax.text` and `skew.ax.plot`. Accessing these base-level Matplotlib methods will work just the same as if you were plotting a typical x-y plot, but instead using pressure and temperature to plot appropriately on our skewed axis. Note that the ordering is reversed from our `SkewT` class object in that the x-value goes first (temperature) and the y-value (pressure) goes second."
   ]
  },
  {
   "cell_type": "code",
   "execution_count": null,
   "metadata": {},
   "outputs": [],
   "source": [
    "# Copy code from previous code cell.\n",
    "# Subset wind barbs so only every third barb is shown. e.g. p[::3]\n",
    "\n",
    "\n",
    "# metpy also has the resample_nn_1d() function to return indices close to each element in an array.\n",
    "#interval = np.logspace(2, 3, 40) * units.hPa\n",
    "#idx = mpcalc.resample_nn_1d(p, interval)\n",
    "#skew.plot_barbs(pressure=p[idx], u=u[idx], v=v[idx])\n",
    "\n",
    "\n",
    "# Use arguments to adjust the appearance of adiabats and mixing ratio lines.\n",
    "#skew.plot_dry_adiabats(t0=np.arange(-60,240,10) * units.degC, color='darkorange', alpha=0.25)\n",
    "#skew.plot_mixing_lines(pressure=np.arange() * units.hPa)\n",
    "\n",
    "# Add some labels for 850 hPa.\n",
    "skew.ax.text(-9,850,'850 hPa',va='center')\n",
    "skew.ax.plot(-11,850,marker='_',ms=16,markeredgewidth=2)"
   ]
  },
  {
   "cell_type": "markdown",
   "metadata": {},
   "source": [
    "## Calculate Parcel Profile\n",
    "\n",
    "Now we want to use the MetPy function `parcel_profile` to calculated the surfaced-baed CAPE (SBCAPE). We'll need to feed the function with all of the pressure values along with a single starting temperature and dewpoint value. The starting temperature and dewpoint values should be the first value available in each array.\n",
    "\n",
    "https://unidata.github.io/MetPy/latest/api/generated/metpy.calc.parcel_profile.html#metpy.calc.parcel_profile"
   ]
  },
  {
   "cell_type": "code",
   "execution_count": null,
   "metadata": {},
   "outputs": [],
   "source": [
    "parcel_temp = mpcalc.parcel_profile(p, T[0], Td[0])"
   ]
  },
  {
   "cell_type": "code",
   "execution_count": null,
   "metadata": {},
   "outputs": [],
   "source": [
    "print(parcel_temp)"
   ]
  },
  {
   "cell_type": "markdown",
   "metadata": {},
   "source": [
    "## Add Parcel Profile to Skew-T and Fill CAPE Area\n",
    "\n",
    "We can start from our improved skew-T that we generated above, then add a new `skew.plot()` to plot the parcel temperature profile for each level in the pressure variable. Additionally we can use the method available in a `SkewT()` object to shade CAPE values `skew.shade_cape()`. A similar process works for CIN using the appropriate shade method.\n",
    "\n",
    "https://unidata.github.io/MetPy/latest/api/generated/metpy.plots.SkewT.html#metpy.plots.SkewT.shade_cape"
   ]
  },
  {
   "cell_type": "code",
   "execution_count": null,
   "metadata": {},
   "outputs": [],
   "source": [
    "# Copy skew-T code from above. Remove lines for the 850hPa marker and text.\n",
    "# Add another skew.plot() for parcel_temp.\n",
    "# Adjust title so station is on the left and date is on teh right.\n",
    "# Use skew.shade_cape(p,T,parcel_temp)"
   ]
  },
  {
   "cell_type": "markdown",
   "metadata": {},
   "source": [
    "## Hodograph Addition\n",
    "We can also use the `Hodograph()` plot functionality to add that to our skew-T diagram. Here we'll demonstrate adding it as an inset axes within out skew-T plot itself. Note that hodographs are plotted by height (not pressure) and we'll add a few nice elements to make our hodograph more interpretable.\n",
    "\n",
    "https://unidata.github.io/MetPy/latest/api/generated/metpy.plots.Hodograph.html"
   ]
  },
  {
   "cell_type": "code",
   "execution_count": null,
   "metadata": {},
   "outputs": [],
   "source": [
    "# Copy code from above.\n",
    "\n",
    "# Create a hodograph\n",
    "hght = data_with_units['height'][ip100]\n",
    "\n",
    "ax_hod = inset_axes(skew.ax, '25%', '25%', loc=1, borderpad=0.8)\n",
    "h = Hodograph(ax_hod, component_range=80)\n",
    "h.add_grid(increment=20)\n",
    "h.plot_colormapped(u,v,hght)\n",
    "\n",
    "# Can subset hodograph from surface to 6 km.\n",
    "iz6km = hght <= 5 * units.km\n",
    "hght_6km = hght[iz6km]"
   ]
  },
  {
   "cell_type": "code",
   "execution_count": null,
   "metadata": {},
   "outputs": [],
   "source": []
  }
 ],
 "metadata": {
  "kernelspec": {
   "display_name": "Python 3 (ipykernel)",
   "language": "python",
   "name": "python3"
  },
  "language_info": {
   "codemirror_mode": {
    "name": "ipython",
    "version": 3
   },
   "file_extension": ".py",
   "mimetype": "text/x-python",
   "name": "python",
   "nbconvert_exporter": "python",
   "pygments_lexer": "ipython3",
   "version": "3.10.5"
  }
 },
 "nbformat": 4,
 "nbformat_minor": 4
}
