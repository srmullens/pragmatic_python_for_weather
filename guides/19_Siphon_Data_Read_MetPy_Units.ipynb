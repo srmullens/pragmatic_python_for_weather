{
 "cells": [
  {
   "cell_type": "markdown",
   "metadata": {},
   "source": [
    "# Remote Data Access and Units\n",
    "Ultimately we want to make a Skew-T plot in Python using MetPy, but we'll need to learn a bit about a few modules including **siphon, numpy, matplotlib, and MetPy** to get us to that end. This notebook will start with reading data from a remote web server and talking about units with arrays.\n",
    "\n",
    "Siphon helps us access remote data (buoy data, surface station archives, climatology data, etc.)\n",
    "\n",
    "We will read in data generated from the University of Wyoming and slightly modified\n",
    "\n",
    "http://weather.uwyo.edu/upperair/sounding.html\n",
    "\n",
    "The main difference between the output from this site and reading them in below is removing/modifying lines that have missing data. Remove lines at pressures below 100 mb that contain missing data; put in a missing value for levels below 100 mb (e.g., -999)."
   ]
  },
  {
   "cell_type": "code",
   "execution_count": null,
   "metadata": {},
   "outputs": [],
   "source": [
    "from datetime import datetime\n",
    "\n",
    "import matplotlib.pyplot as plt\n",
    "from metpy.units import units, pandas_dataframe_to_unit_arrays\n",
    "from siphon.simplewebservice.wyoming import WyomingUpperAir"
   ]
  },
  {
   "cell_type": "markdown",
   "metadata": {},
   "source": [
    "Siphon (another Unidata Python package) has a remote data access function to retrieve data from different types of archive data sources including soundings, National Data Bouy Center, and the ACIS station data archive. The example we'll do below uses the Wyoming sounding archive to retrieve a radiosonde launch data set.\n",
    "\n"
   ]
  },
  {
   "cell_type": "markdown",
   "metadata": {},
   "source": [
    "## Get Station Data\n",
    "\n",
    "Use siphon to access Wyoming Sounding archive:\n",
    "\n",
    "Siphon Documentation: https://unidata.github.io/siphon/latest/api/simplewebservice.html#module-siphon.simplewebservice.wyoming\n",
    "\n",
    "In this documentation, the WyomingUpperAir class has one method: request_data(). That method requires two things to get sounding data:\n",
    "* time - format this using datetime()\n",
    "* site_id - Can find via websites with soundings. One is the [RAP UCAR site](http://weather.rap.ucar.edu) and click on the Upper Air section. Note these stations have moved over time and issues can prevent a station launching a sounding on a particular day. Using the [Wyoming soundings](http://weather.uwyo.edu/upperair/sounding.html) site, you can find what stations were available on any particular day and where they were located."
   ]
  },
  {
   "cell_type": "code",
   "execution_count": null,
   "metadata": {},
   "outputs": [],
   "source": [
    "# Need these to get upper air data.\n",
    "date = datetime(2005,1,11,12)\n",
    "station = 'OUN'"
   ]
  },
  {
   "cell_type": "code",
   "execution_count": null,
   "metadata": {},
   "outputs": [],
   "source": [
    "df = WyomingUpperAir.request_data(date, station)"
   ]
  },
  {
   "cell_type": "markdown",
   "metadata": {},
   "source": [
    "## Pull out data from dataset variable\n",
    "\n",
    "The above function essentially gives us a Pandas DataFrame that has an assortment of different data"
   ]
  },
  {
   "cell_type": "code",
   "execution_count": null,
   "metadata": {},
   "outputs": [],
   "source": [
    "df\n",
    "\n",
    "# Can subset the data to just the data we want.\n",
    "#temperature = df.temperature\n",
    "\n",
    "# But notice it has no units associated with it.\n",
    "print(temperature)"
   ]
  },
  {
   "cell_type": "markdown",
   "metadata": {},
   "source": [
    "## Units!\n",
    "\n",
    "Units are exceedingly important in meteorology (and all sciences). With the file we have read in from the Wyoming Sounding archive, we also can get a dictionary of the unit values for each of the variables. Let's first just print out the unit values associated with each variable.\n",
    "\n",
    "Fortunately, Siphon packages our data with a dictionary of units. Access this with `df.units`.\n",
    "\n",
    "Pandas does not support attaching units to data, but metpy has been coded with a function to quickly attach these units to all the variables.\n",
    "```python\n",
    "metpy.units.pandas_dataframe_to_unit_arrays(<pandas dataframe>)\n",
    "```\n",
    "This results in a dictionary filled with arrays with units."
   ]
  },
  {
   "cell_type": "code",
   "execution_count": null,
   "metadata": {},
   "outputs": [],
   "source": [
    "df.units"
   ]
  },
  {
   "cell_type": "markdown",
   "metadata": {},
   "source": [
    "## Pulling out data and attaching Units\n",
    "\n",
    "The dataset object is a standard format dictionary that many different data read functions produce. To access a variable you'll reference the dataset variable name (dataset) with selecting the variable from the directionary as a string.\n",
    "\n",
    "Use MetPy function (`pandas_dataframe_to_unit_arrays`) to pull data from a Pandas DataFrame and make numpy arrays with attached units for use in MetPy calculations."
   ]
  },
  {
   "cell_type": "code",
   "execution_count": null,
   "metadata": {},
   "outputs": [],
   "source": [
    "# Attach the units!\n",
    "data_with_units = pandas_dataframe_to_unit_arrays(df)"
   ]
  },
  {
   "cell_type": "code",
   "execution_count": null,
   "metadata": {},
   "outputs": [],
   "source": [
    "data_with_units\n",
    "#temperature_with_units = data_with_units['temperature']\n"
   ]
  },
  {
   "cell_type": "code",
   "execution_count": null,
   "metadata": {},
   "outputs": [],
   "source": [
    "#print(temperature)\n",
    "#print(temperature_with_units)"
   ]
  },
  {
   "cell_type": "code",
   "execution_count": null,
   "metadata": {},
   "outputs": [],
   "source": [
    "# Only want to pull in data up to 100 mb, we can \n",
    "# use a boolean array to choose on the desired values\n",
    "pressure = data_with_units['pressure']\n",
    "print(pressure)\n",
    "\n",
    "# Create boolean object for where pressure is greater than 100hPa\n",
    "index_pressure_100 = pressure >= 100 * units.hPa\n",
    "print(index_pressure_100)\n",
    "\n",
    "# Subset pressure and read in other data to only 100 mb\n",
    "p = pressure[index_pressure_100]\n",
    "T = temperature_with_units[index_pressure_100]\n",
    "Td = data_with_units['dewpoint'][index_pressure_100]\n",
    "z = data_with_units['height'][index_pressure_100]"
   ]
  },
  {
   "cell_type": "code",
   "execution_count": null,
   "metadata": {},
   "outputs": [],
   "source": [
    "print(T)"
   ]
  },
  {
   "cell_type": "markdown",
   "metadata": {},
   "source": [
    "## Plot Temperature vs. Height"
   ]
  },
  {
   "cell_type": "code",
   "execution_count": null,
   "metadata": {},
   "outputs": [],
   "source": [
    "# Note matplotlib gives basic axis labels using the units in our data.\n",
    "plt.plot(T, z)\n",
    "#plt.plot(T.to('degF'), z.to('feet'))\n",
    "#plt.plot(T.to('K'), z.to('feet'))"
   ]
  },
  {
   "cell_type": "markdown",
   "metadata": {},
   "source": [
    "## Output to a file\n",
    "\n",
    "It is not hard to write to a file, with a couple of simple steps we can accomplish the task.\n",
    "1. Open a file for writing using `open()` function and assign it a variable name.\n",
    "2. Use the variable name to use the `write()` method to write a single line. Must be a string format. Must manually put in a newline character `\\n`.\n",
    "3. Use a loop to print multiple lines of data a row at a time.\n",
    "4. When doen writing all material, use the `close()` method to formally close the file and write to disk."
   ]
  },
  {
   "cell_type": "code",
   "execution_count": null,
   "metadata": {},
   "outputs": [],
   "source": [
    "# Open a file for writing\n",
    "outfile = open('data_output.txt', 'w')\n",
    "\n",
    "# Basic function to write text to files.\n",
    "outfile.write('First line output to a file.')\n",
    "outfile.write('Second line in file.')\n",
    "\n",
    "# New Line\n",
    "#outfile.write('First line output to a file.\\n')\n",
    "#outfile.write('Second line in file.')\n",
    "\n",
    "# Variables\n",
    "#outfile.write(T)\n",
    "#outfile.write(f'{T}')\n",
    "#outfile.write('TMPC\\n')\n",
    "#for i in range(T.shape[0]):\n",
    "#   outfile.write(f'{T[i]}')\n",
    "#   outfile.write(f'{T[i]}\\n')\n",
    "#   outfile.write(f'{T[i].m}\\n')\n",
    "\n",
    "# Free up memory by closing the file.\n",
    "outfile.close()"
   ]
  },
  {
   "cell_type": "code",
   "execution_count": null,
   "metadata": {},
   "outputs": [],
   "source": [
    "# Open a file for writing\n",
    "outfile = open('data_output.txt', 'w')\n",
    "\n",
    "# Variables\n",
    "outfile.write(T)\n",
    "\n",
    "#outfile.write(f'{T}')\n",
    "\n",
    "#for i in range(T.shape[0]):\n",
    "#   outfile.write(f'{T[i]}')\n",
    "#   outfile.write(f'{T[i]}\\n')\n",
    "\n",
    "#outfile.write('TMPC\\n')\n",
    "#for i in range(T.shape[0]):\n",
    "#   outfile.write(f'{T[i]}')\n",
    "#   outfile.write(f'{T[i]}\\n')\n",
    "#   outfile.write(f'{T[i].m}\\n')\n",
    "\n",
    "# Free up memory by closing the file.\n",
    "outfile.close()"
   ]
  },
  {
   "cell_type": "code",
   "execution_count": null,
   "metadata": {},
   "outputs": [],
   "source": [
    "# Open a file for writing\n",
    "outfile = open('data_output.txt', 'w')\n",
    "\n",
    "outfile.write('PRES    TMPC\\n')\n",
    "for i in range(T.shape[0]):\n",
    "    outfile.write(f'{p[i].m}  {T[i].m}\\n')\n",
    "    outfile.write(f'{p[i].m:7.2f}  {T[i].m:7.2f}\\n')\n",
    "\n",
    "outfile.close()"
   ]
  }
 ],
 "metadata": {
  "kernelspec": {
   "display_name": "Python 3 (ipykernel)",
   "language": "python",
   "name": "python3"
  },
  "language_info": {
   "codemirror_mode": {
    "name": "ipython",
    "version": 3
   },
   "file_extension": ".py",
   "mimetype": "text/x-python",
   "name": "python",
   "nbconvert_exporter": "python",
   "pygments_lexer": "ipython3",
   "version": "3.10.5"
  }
 },
 "nbformat": 4,
 "nbformat_minor": 4
}
