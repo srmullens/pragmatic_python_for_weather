{
 "cells": [
  {
   "cell_type": "code",
   "execution_count": null,
   "metadata": {},
   "outputs": [],
   "source": [
    "import matplotlib.pyplot as plt\n",
    "import numpy as np"
   ]
  },
  {
   "cell_type": "markdown",
   "metadata": {},
   "source": [
    "# Bar Plots\n",
    "Another type of plot is the bar chart.\n",
    "\n",
    "```python\n",
    "plt.bar(x, height)\n",
    "```\n",
    "For a bar plot, instead of a 'y' value, the input we are giving is the height of the bar for each x value. If we are only plotting one bar, then the height is the same as a y-value. By using the \"bottom\" keyword in plt.bar, using heights help us to stack bars on top of each other.\n",
    "\n",
    "There are some different keyword arguments for bar plots compared to line plots. Here are some of the common keywords you might set to alter the look and feel of a bar plot:\n",
    "* width\n",
    "   - This attribute sets the width of the bar (default: 0.8) with a value between 0 and 1\n",
    "* color\n",
    "   - Same as for line plots, the full complement of colors are available for the color of the plotted bars\n",
    "* edgecolor\n",
    "   - This attribute allows the user to set a separate color for the outside line surrounding the bar. By default there is not an edgecolor defined.\n",
    "\n",
    "\n",
    "Bar Plot Documentation: https://matplotlib.org/stable/api/_as_gen/matplotlib.pyplot.bar.html#matplotlib.pyplot.bar\n",
    "\n",
    "**Bar Plot Figure Example Code:**\n",
    "```python\n",
    "x = [1, 2, 3, 4, 5]\n",
    "values = [100, 94, 74, 85, 85]\n",
    "\n",
    "fig = plt.figure(1)\n",
    "ax = plt.subplot(111)\n",
    "\n",
    "# Note: red and tab:red are different colors.\n",
    "ax.bar(x, values, width=0.75, color='tab:red', edgecolor='black')\n",
    "\n",
    "plt.show()\n",
    "```"
   ]
  },
  {
   "cell_type": "markdown",
   "metadata": {},
   "source": [
    "## Bar Plot Example\n",
    "\n",
    "Compute the monthly precipitation and plot each month's value using a bar chart with the color green."
   ]
  },
  {
   "cell_type": "code",
   "execution_count": 1,
   "metadata": {},
   "outputs": [
    {
     "ename": "NameError",
     "evalue": "name 'np' is not defined",
     "output_type": "error",
     "traceback": [
      "\u001b[0;31m---------------------------------------------------------------------------\u001b[0m",
      "\u001b[0;31mNameError\u001b[0m                                 Traceback (most recent call last)",
      "\u001b[0;32m<ipython-input-1-567f1c2d74d1>\u001b[0m in \u001b[0;36m<module>\u001b[0;34m\u001b[0m\n\u001b[1;32m      1\u001b[0m \u001b[0;31m# First read in our data only bringing in the precipitation column (4)\u001b[0m\u001b[0;34m\u001b[0m\u001b[0;34m\u001b[0m\u001b[0;34m\u001b[0m\u001b[0m\n\u001b[1;32m      2\u001b[0m \u001b[0;31m# May need to use the full path instead of the relative path.\u001b[0m\u001b[0;34m\u001b[0m\u001b[0;34m\u001b[0m\u001b[0;34m\u001b[0m\u001b[0m\n\u001b[0;32m----> 3\u001b[0;31m \u001b[0mord_precip\u001b[0m \u001b[0;34m=\u001b[0m \u001b[0mnp\u001b[0m\u001b[0;34m.\u001b[0m\u001b[0mloadtxt\u001b[0m\u001b[0;34m(\u001b[0m\u001b[0;34m'ord_2010_data.csv'\u001b[0m\u001b[0;34m,\u001b[0m \u001b[0mskiprows\u001b[0m\u001b[0;34m=\u001b[0m\u001b[0;36m2\u001b[0m\u001b[0;34m,\u001b[0m \u001b[0musecols\u001b[0m\u001b[0;34m=\u001b[0m\u001b[0;34m[\u001b[0m\u001b[0;36m4\u001b[0m\u001b[0;34m]\u001b[0m\u001b[0;34m,\u001b[0m \u001b[0mdelimiter\u001b[0m\u001b[0;34m=\u001b[0m\u001b[0;34m','\u001b[0m\u001b[0;34m)\u001b[0m\u001b[0;34m\u001b[0m\u001b[0;34m\u001b[0m\u001b[0m\n\u001b[0m",
      "\u001b[0;31mNameError\u001b[0m: name 'np' is not defined"
     ]
    }
   ],
   "source": [
    "# First read in our data only bringing in the precipitation column (4)\n",
    "# May need to use the full path instead of the relative path.\n",
    "ord_precip = np.loadtxt('ord_2010_data.csv', skiprows=2, usecols=[4], delimiter=',')"
   ]
  },
  {
   "cell_type": "markdown",
   "metadata": {},
   "source": [
    "In our data we have a precipitation amount for each day, so how can we get the cumulative precipitation for each month?\n",
    "\n",
    "We'll need to know how many days are in each month, we'll have to keep track of the total number of days as we go along.\n",
    "\n",
    "Jan Data: `ord_data[0:31]`\n",
    "\n",
    "Feb Data: `ord_data[31:59]`\n",
    "\n",
    "etc.\n",
    "\n"
   ]
  },
  {
   "cell_type": "code",
   "execution_count": null,
   "metadata": {},
   "outputs": [],
   "source": [
    "# Compute Monthly Precipitation\n",
    "\n",
    "# Set up array that we'll fill as we sum up each month's precipitation\n",
    "monthly_precip = np.zeros((12))\n",
    "\n",
    "# Set up a list of the number of days in each month\n",
    "monthly_days = [31, 28, 31, 30, 31, 30, 31, 31, 30, 31, 30, 31]\n",
    "\n",
    "# Loop through to calculate \n",
    "start = 0\n",
    "for month in range(12):\n",
    "    # Determine the array index stopping point\n",
    "    stop = np.sum(monthly_days[:month+1])\n",
    "    monthly_precip[month] = ord_precip[start:stop].sum()\n",
    "    # Update the starting value for the next time through the loop\n",
    "    start = stop"
   ]
  },
  {
   "cell_type": "code",
   "execution_count": null,
   "metadata": {},
   "outputs": [],
   "source": []
  },
  {
   "cell_type": "markdown",
   "metadata": {},
   "source": [
    "# Multi-panel Plots\n",
    "\n",
    "We are not regulated to a single plot within one figure. We can set up multiple plot axes and place them all on the same figure. We'll demonstrate this ability with having two plots on one figure.\n",
    "\n",
    "One method for creating multiple subplots is the use the `plt.subplot()` function. We have used this previously to define an axes for a single plot.\n",
    "\n",
    "We need three numbers:\n",
    "\n",
    "```python\n",
    "plt.subplot(nrows, ncols, index)\n",
    "\n",
    "# Example:\n",
    "plt.subplot(1, 1, 1)\n",
    "# or the shortened version:\n",
    "plt.subplot(111)\n",
    "```\n",
    "The first number signifies the number of rows of plots, the second number signifies the number of columns of plots, and the final number signifies the index value of the plots beginning at 1 and going to the product of the number of rows and columns.\n",
    "\n",
    "If `plt.subplot(221)` this indicates that there will be two rows and two columns (a total of four possible plots) and that we are working on the first plot. The index value will first move across all of the columns within one row before moving down. This is the same as how we read: left to right, top to bottom. Let's look at an example of having four different panels in one figure:\n"
   ]
  },
  {
   "cell_type": "code",
   "execution_count": null,
   "metadata": {},
   "outputs": [],
   "source": [
    "plt.figure(2, figsize=(10,10))\n",
    "for i in range(1, 5):\n",
    "    plt.subplot(2, 2, i)\n",
    "    plt.text(0.5, 0.5, str((2, 2, i)),\n",
    "             fontsize=18, ha='center')"
   ]
  },
  {
   "cell_type": "markdown",
   "metadata": {},
   "source": [
    "There are other methods to create multi-panel plots that give you more control over how the panels are created, how much of a row or column they cover, and how you access each of individual plot axes. We'll just stick with the basic method, but feel free to dig deeper into creating subplots.\n",
    "\n",
    "Subplots Documentation: https://matplotlib.org/stable/api/_as_gen/matplotlib.pyplot.subplots.html#matplotlib.pyplot.subplots\n",
    "\n",
    "Advanced Subplots with GridSpec: https://matplotlib.org/stable/gallery/subplots_axes_and_figures/gridspec_and_subplots.html#sphx-glr-gallery-subplots-axes-and-figures-gridspec-and-subplots-py"
   ]
  },
  {
   "cell_type": "markdown",
   "metadata": {},
   "source": [
    "### Multiple Plot Example\n",
    "\n",
    "In this example, let's first plot both the monthly precipitation that we previously calculated and plotted with a bar plot. Now, compute the cumulative precipitation that occurred at ORD over the course of the year and plot that with a line plot. Plot these on one row (so a side-by-side plot)."
   ]
  },
  {
   "cell_type": "code",
   "execution_count": null,
   "metadata": {},
   "outputs": [],
   "source": [
    "# Computing cumulative precipitation\n"
   ]
  },
  {
   "cell_type": "code",
   "execution_count": null,
   "metadata": {},
   "outputs": [],
   "source": []
  },
  {
   "cell_type": "markdown",
   "metadata": {},
   "source": [
    "## Exercise #1\n",
    "Read in more of the ORD data and add a subplot to the multi-panel figure created above to add a plot for maximum and minimum temperatures throughout the year."
   ]
  },
  {
   "cell_type": "code",
   "execution_count": null,
   "metadata": {},
   "outputs": [],
   "source": []
  },
  {
   "cell_type": "markdown",
   "metadata": {},
   "source": [
    "## Exercise #2\n",
    "Dig deeper into the differnet ways to modify the plots including filling the area between two lines, adding edgecolors to a bar plot, creating a single plot that uses two different y-axes to plot different scales of data, or having two subplots share an axis.\n",
    "\n",
    "Filling Between Lines: https://matplotlib.org/stable/api/_as_gen/matplotlib.pyplot.fill_between.html#matplotlib.pyplot.fill_between\n",
    " - Make the cumulative precipication plot filled between 0 and the y value.\n",
    "\n",
    "Twinned X-Axis (with different y value scales): https://matplotlib.org/stable/gallery/subplots_axes_and_figures/two_scales.html\n",
    " - Plot the maximum temperature and the cumulative precipitation on a single plot"
   ]
  },
  {
   "cell_type": "code",
   "execution_count": null,
   "metadata": {},
   "outputs": [],
   "source": []
  }
 ],
 "metadata": {
  "kernelspec": {
   "display_name": "Python 3",
   "language": "python",
   "name": "python3"
  },
  "language_info": {
   "codemirror_mode": {
    "name": "ipython",
    "version": 3
   },
   "file_extension": ".py",
   "mimetype": "text/x-python",
   "name": "python",
   "nbconvert_exporter": "python",
   "pygments_lexer": "ipython3",
   "version": "3.7.4"
  }
 },
 "nbformat": 4,
 "nbformat_minor": 5
}
