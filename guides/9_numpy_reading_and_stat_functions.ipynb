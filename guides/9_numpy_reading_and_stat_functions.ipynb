{
 "cells": [
  {
   "cell_type": "markdown",
   "metadata": {},
   "source": [
    "# Working with Numpy Arrays\n",
    "\n",
    "In this notebook we'll cover reading data from a file into a Numpy array, separating out different parts of the array to different namespaces and reshaping some of the elements. Additionally, we'll cover using some of the basic statistical functions and methods associated with float and integer arrays and be able to find where maximum and minimum values occur within an array."
   ]
  },
  {
   "cell_type": "markdown",
   "metadata": {
    "tags": []
   },
   "source": [
    "## Reading in data to Python\n",
    "It is difficult to easily talk about reading data from a file into a Python program simply because there are so many ways to do so! Depending on what the data is and what you want to do with it, there will be a number of different methods to read the file in. Specific to the Numpy module, there are simple read functions, and we are going to use one here. In the future we will use some read functionality from a packaged called Pandas (https://pandas.pydata.org) that is in some ways built on top of the Numpy module and brings with it a whole lot of additional functionality. In this example we'll read in an ASCII (plain text) file. We can then use the data to calculate or graph stuff to answer scientific questions! Specifically, the data that we are reading in is the North Atlantic Oscillation (NAO) data from 1950 to 2024.\n",
    "\n",
    "Source: https://www.cpc.ncep.noaa.gov/products/precip/CWlink/pna/nao.shtml"
   ]
  },
  {
   "cell_type": "code",
   "execution_count": null,
   "metadata": {},
   "outputs": [],
   "source": [
    "import numpy as np"
   ]
  },
  {
   "cell_type": "code",
   "execution_count": null,
   "metadata": {},
   "outputs": [],
   "source": [
    "import os\n",
    "data = np.loadtxt(\"data/nao.txt\", skiprows=2)"
   ]
  },
  {
   "cell_type": "markdown",
   "metadata": {},
   "source": [
    "In the command above you are using a function (```loadtxt```) from the numpy module (```np```) to read in a file (nao.txt).\n",
    "\n",
    "How can I find out more about this function? Well, there are many ways, but two of the easiest would be to 1) google <span style=\"font-family:Courier\"> **numpy loadtxt** </span> or 2) in a new cell below type ```np.loadtxt?```. The second way will bring up the manual pages from the numpy module to a dialogue box at the bottom of your web browser. You can also put your cursor in the function name and press shift+tab to get a dialogue box that contains the documentation for that particular function."
   ]
  },
  {
   "cell_type": "code",
   "execution_count": null,
   "metadata": {},
   "outputs": [],
   "source": [
    "# So what does the data look like?\n"
   ]
  },
  {
   "cell_type": "code",
   "execution_count": null,
   "metadata": {},
   "outputs": [],
   "source": [
    "# What is the shape of this array that we have read in?\n"
   ]
  },
  {
   "cell_type": "markdown",
   "metadata": {},
   "source": [
    "## Separating Columns\n",
    "With multidimensional arrays, we can isolate different columns and rows into separate arrays. This might be advantageous for working with the data where you can ignore certain parts of the data during your analysis. Separating dimensions may also allow you to work with them in different ways."
   ]
  },
  {
   "cell_type": "code",
   "execution_count": null,
   "metadata": {},
   "outputs": [],
   "source": [
    "# Get the NAO data in its own array separate from the month column.\n",
    "nao_values = "
   ]
  },
  {
   "cell_type": "code",
   "execution_count": null,
   "metadata": {},
   "outputs": [],
   "source": []
  },
  {
   "cell_type": "code",
   "execution_count": null,
   "metadata": {},
   "outputs": [],
   "source": [
    "# Get the months/year data in its own array separate from the NAO data.\n"
   ]
  },
  {
   "cell_type": "code",
   "execution_count": null,
   "metadata": {},
   "outputs": [],
   "source": []
  },
  {
   "cell_type": "markdown",
   "metadata": {},
   "source": [
    "## Reshape\n",
    "We've got a single column of data, but there is more inherent organization to this data that might be better to represent as a table instead. We can reshape an array by our known structure.\n"
   ]
  },
  {
   "cell_type": "code",
   "execution_count": null,
   "metadata": {},
   "outputs": [],
   "source": [
    "nao_five_decades = "
   ]
  },
  {
   "cell_type": "code",
   "execution_count": null,
   "metadata": {},
   "outputs": [],
   "source": [
    "nao_by_year = \n"
   ]
  },
  {
   "cell_type": "markdown",
   "metadata": {
    "tags": []
   },
   "source": [
    "## Common Functions in Numpy\n",
    "Do you every compute averages? maximum? minimum?\n",
    "\n",
    "Numpy can help!\n",
    "\n",
    "Statistical Functions: http://docs.scipy.org/doc/numpy/reference/routines.statistics.html\n",
    "* `max`\n",
    "* `min`\n",
    "* `std`\n",
    "* `median`\n",
    "* `mean`\n",
    "* `average`\n",
    "* `nanmean`\n",
    "* `corrcoef`\n",
    "\n",
    "A number of these functions can also be called as methods on a Numpy data object.\n",
    "\n",
    "```python\n",
    "jan_avg = np.mean(data[::12, 1])\n",
    "jan_avg_method = data[::12, 1].mean()\n",
    "print(jan_avg)\n",
    "print(jan_avg_method)\n",
    "```\n",
    "Output:\n",
    "```\n",
    "0.12416666666666669\n",
    "0.12416666666666669\n",
    "```\n",
    "Note: The `average` function actually computes a weighted average. The default weight is 1 for all observations, but this function gives you the option of changing them. The `mean` function just computes the straight arithmatic mean of the array along an axis. It does not have the ability to provide weights.\n",
    "\n",
    "Each of these Numpy functions can be computed over the entire array and return a single value, or over a particular axis to return the average for each row or column depending on which axis was chosen. To do this you would specify the keyword argument of `axis` and set it to the desired axis number (e.g., 0, 1, 2, etc.)"
   ]
  },
  {
   "cell_type": "code",
   "execution_count": null,
   "metadata": {},
   "outputs": [],
   "source": [
    "# Let's compute the average value of NAO for the month of January during the 1950s.\n",
    "# January is index value 0 (we want all rows from column 1)\n",
    "jan_avg = "
   ]
  },
  {
   "cell_type": "code",
   "execution_count": null,
   "metadata": {},
   "outputs": [],
   "source": [
    "# June Average NAO for the 1950s\n"
   ]
  },
  {
   "cell_type": "code",
   "execution_count": null,
   "metadata": {},
   "outputs": [],
   "source": [
    "# Average over all of the months for the 1950s?\n",
    "\n",
    "# Advanced: Average of June-July-August range for all years."
   ]
  },
  {
   "cell_type": "code",
   "execution_count": null,
   "metadata": {},
   "outputs": [],
   "source": [
    "# Now let's compute the max NAO value from the whole dataset\n",
    "max_nao_value = "
   ]
  },
  {
   "cell_type": "code",
   "execution_count": null,
   "metadata": {},
   "outputs": [],
   "source": [
    "# Minimum NAO value from the whole dataset\n"
   ]
  },
  {
   "cell_type": "markdown",
   "metadata": {},
   "source": [
    "## Finding Values in an Array\n",
    "\n",
    "Sometimes you want an efficient way to search an array for a particular value or values. The `np.where` function can use logical operations to identify indices that correspond to where the logical condition is True. The returned value is a tuple of arrays, so it will require a bit to get out individual index values.\n",
    "\n",
    "```python\n",
    "a = np.array([-2, -1, 0, 1, 2])\n",
    "print(np.where(a <= -1))\n",
    "```\n",
    "Output:\n",
    "```\n",
    "(array([0, 1],))\n",
    "```"
   ]
  },
  {
   "cell_type": "code",
   "execution_count": null,
   "metadata": {},
   "outputs": [],
   "source": [
    "# So when did the maximum value occur?\n"
   ]
  },
  {
   "cell_type": "markdown",
   "metadata": {},
   "source": [
    "## Exercise 1\n",
    "Find the minimum NAO that occurs between 1990-2010 and when it occurs."
   ]
  },
  {
   "cell_type": "code",
   "execution_count": null,
   "metadata": {},
   "outputs": [],
   "source": [
    "# Find the maximum that occurs between 1990 - 2010 and where it occurs\n"
   ]
  },
  {
   "cell_type": "markdown",
   "metadata": {},
   "source": [
    "## Exercise 2\n",
    "Use the where function to find all of the elements where one of the following conditions are true:  \n",
    "https://numpy.org/doc/stable/reference/generated/numpy.where.html  \n",
    "\n",
    "NAO >= 1.25\n",
    "\n",
    "NAO <= -1.25\n",
    "\n",
    "Note: The `and` condition will not work in this case. To assess the combination of two inequalities with Numpy arrays we need to exploit the mathematical operations related to boolean arrays.\n",
    "\n",
    "`True * True = True`\n",
    "\n",
    "`True * False = False`\n",
    "\n",
    "`False * False = False`\n",
    "\n",
    "`True + True = True`\n",
    "\n",
    "`True + False = True`\n",
    "\n",
    "`False + False = False`"
   ]
  },
  {
   "cell_type": "code",
   "execution_count": null,
   "metadata": {},
   "outputs": [],
   "source": [
    "# Multiple Conditions\n",
    "# Find all index values where NAO is >= 1.25 or <= -1.25\n"
   ]
  }
 ],
 "metadata": {
  "kernelspec": {
   "display_name": "Python 3",
   "language": "python",
   "name": "python3"
  },
  "language_info": {
   "codemirror_mode": {
    "name": "ipython",
    "version": 3
   },
   "file_extension": ".py",
   "mimetype": "text/x-python",
   "name": "python",
   "nbconvert_exporter": "python",
   "pygments_lexer": "ipython3",
   "version": "3.7.4"
  }
 },
 "nbformat": 4,
 "nbformat_minor": 5
}
