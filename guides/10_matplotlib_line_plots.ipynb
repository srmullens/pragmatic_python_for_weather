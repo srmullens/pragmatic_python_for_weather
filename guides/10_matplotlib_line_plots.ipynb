{
 "cells": [
  {
   "cell_type": "markdown",
   "metadata": {},
   "source": [
    "## Plotting Timeseries\n",
    "\n",
    "One of the main plotting libraries that is widely used within the atmospheric sciences is [matplotlib](https://matplotlib.org). This is a robust library that contains a miriade of options for plotting many different types of data. To begin simple [line](https://matplotlib.org/api/_as_gen/matplotlib.pyplot.plot.html#matplotlib.pyplot.plot) and [scatter](https://matplotlib.org/api/_as_gen/matplotlib.pyplot.scatter.html#matplotlib.pyplot.scatter) plots will be utilized.\n",
    "\n",
    "Matplotlib Documentation: https://matplotlib.org"
   ]
  },
  {
   "cell_type": "markdown",
   "metadata": {},
   "source": [
    "## Making plots with Matplotlib\n",
    "Previously we used a Python module to help us in creating and using arrays called Numpy. Now we desire to use a different module to create plots using Python. The most common module is matplotlib, which is based on Matlab plotting techniques. Matlab is a great program, but it's expensive and only academics use it. We will first create a plot using simple examples and work our way up to using values stored in arrays and plotting them.\n",
    "\n",
    "There is plenty of online documentation for matplotlib and it can be found at http://matplotlib.org/, specifically there are a lot of examples of various types of plots and those are located at http://matplotlib.org/gallery.html .\n",
    "\n",
    "The way to really learn Python, or any computing language is to just do it. Find examples, or create examples for yourself and make changes like adding a title. Some common functions of pyplot functions and methods:\n",
    "\n",
    "<span style=\"font-family:Courier\">plt.figure &nbsp;&nbsp;&nbsp;</span> set figure numbers for making multiple figures in one script <br>\n",
    "<span style=\"font-family:Courier\">plt.plot &nbsp;&nbsp;&nbsp;&nbsp;&nbsp;</span> plot line graphs or scatter plots <br>\n",
    "<span style=\"font-family:Courier\">plt.title\t&nbsp;&nbsp;&nbsp;&nbsp;</span> put a title on the figure <br>\n",
    "<span style=\"font-family:Courier\">plt.text &nbsp;&nbsp;&nbsp;&nbsp;&nbsp;</span> add text to the figure at a specified location <br>\n",
    "\n"
   ]
  },
  {
   "cell_type": "code",
   "execution_count": null,
   "metadata": {},
   "outputs": [],
   "source": [
    "import matplotlib.pyplot as plt\n",
    "import numpy as np"
   ]
  },
  {
   "cell_type": "markdown",
   "metadata": {},
   "source": [
    "## Basic Line Plot\n",
    "\n",
    "In this course we will use the basic `pyplot` module (which we brought in with the alias `plt`) from the Matplotlib library to make our plots. The main plotting function from this module is\n",
    "\n",
    "```python\n",
    "plt.plot(x, y)\n",
    "```\n",
    "\n",
    "The way that this function works is by plotting the horizontal (x-axis) variable by the vertical (y-axis) variable.\n",
    "\n",
    "https://matplotlib.org/stable/api/_as_gen/matplotlib.pyplot.plot.html"
   ]
  },
  {
   "cell_type": "code",
   "execution_count": null,
   "metadata": {},
   "outputs": [],
   "source": []
  },
  {
   "cell_type": "markdown",
   "metadata": {},
   "source": [
    "## Defining a Figure\n",
    "\n",
    "Creating an image with Matplotlib begins with the idea of the figure. The figure is the entire image entity. Within a fiugre you can have one or more axes where data will be plotted using the ordinate data axis (commonly x-axis) and abscisssa data axis (commonly y-axis).\n",
    "\n",
    "![](https://files.realpython.com/media/fig_map.bc8c7cabd823.png)\n",
    "\n",
    "https://files.realpython.com/media/fig_map.bc8c7cabd823.png\n",
    "\n",
    "It is best to define a specific axes for plotting and use the methods off of that object to set all of your plotting parameters.\n",
    "\n",
    "There are a number of ways to define a plotting axes, but one simple method is to create a figure subplot with\n",
    "\n",
    "```python\n",
    "fig = plt.figure()\n",
    "ax = plt.subplot(111)\n",
    "```\n",
    "\n",
    "This will create a plotting axes with one figure that covers all of one row and one column. We'll talk about ways to have mulitple axes in future lectures.\n",
    "\n",
    "Then, to plot, use a method off of the axes object:\n",
    "\n",
    "```python\n",
    "ax.plot(x, y)\n",
    "```\n",
    "\n",
    "This works the same way as the `plt.plot` function, but is now a method off of the axes and is considered the more robust way use Matplotlib for plotting. To put it another way, Matplotlib knows to make the plot on this specific set of axis we want it to create. When we do multiple subplots, each axis will get its own variable like `ax1, ax2`, making the code `ax1.plot(x, y)`."
   ]
  },
  {
   "cell_type": "code",
   "execution_count": null,
   "metadata": {},
   "outputs": [],
   "source": []
  },
  {
   "cell_type": "markdown",
   "metadata": {},
   "source": [
    "## Modifying Plot/Figure Characteristics\n",
    "\n",
    "Matplotlib has defaults to help display your data in a way that makes sense in a glance. There are many ways to modify your plot to improve the data visualization. Here are some of the common keywords that you can add to any lineplot (and many other types of plots):\n",
    "\n",
    "* `color`\n",
    "   - This attribute controls the color of your lineplot. There are a number of named colors available in Matplotlib and can be found at https://matplotlib.org/stable/gallery/color/named_colors.html. In addition, you can use any HTML hex color code as a string color name.\n",
    "* `linestyle`\n",
    "   - This attribute controls the type of line that is plotted. The options are 'solid', 'dashed', 'dotted', and 'dashdot'. There are other linestyle types and we you can find all of the options at https://matplotlib.org/stable/gallery/lines_bars_and_markers/linestyles.html\n",
    "* `linewidth`\n",
    "   - This attribute controls the thickness of the line being plotted and is set using a integer or float value.\n",
    "* `alpha`\n",
    "   - This attribute controls the transparency of the line being plotted. It should be set with a floating point value where 0 would be completely transparent and 1 is no transparency.\n",
    "* `label`\n",
    "   - This attribute stores a name for the line being plotted, which can be used with plotting a legend.\n",
    "* `marker`\n",
    "   - This attribute will plot a marker at each point that defines the line being plotted. Additional attributes exist to control the marker size, edgecolor, facecolor, etc."
   ]
  },
  {
   "cell_type": "code",
   "execution_count": null,
   "metadata": {},
   "outputs": [],
   "source": [
    "x2 = np.linspace(-5, 5, 100)\n",
    "y2 = x2**2\n",
    "\n"
   ]
  },
  {
   "cell_type": "markdown",
   "metadata": {},
   "source": [
    "## Multiple Lines on a Plot\n",
    "Each axes can have multiple plots added to them by simply making multiple calls of the plot method. When adding multiple lines, it is imperative to change the features of how the data are plotted to keep them all distinct.\n",
    "\n",
    "When you introduce more than one line on a plot, it will be necessary to include a legend to describe what each line represents. This is most easily accomplished by adding the label keyword to the plot method and then calling `ax.legend()` to have a legend placed in a  default location on your plot.\n",
    "\n",
    "There are ways to create a custom legend, but that is very advanced!"
   ]
  },
  {
   "cell_type": "code",
   "execution_count": null,
   "metadata": {},
   "outputs": [],
   "source": []
  },
  {
   "cell_type": "markdown",
   "metadata": {},
   "source": [
    "## Axes Settings\n",
    "Often the default settings are just fine in plotting your data, but there are further methods for refining your plot image.\n",
    "\n",
    "For example, in the figure we created above there are no labels for the x- and y-axis data. It is important to always properly label each axis and add a title to each axes. This helps anyone who is viewing your figure within a paper or presentation. Additionally, you may need or want to set different limits of your data axis.\n",
    "* `ax.set_ylabel`\n",
    "   - This attribute sets the text label of the y-axis.\n",
    "* `ax.set_xlabel`\n",
    "   - This attribute sets the text label of the x-axis.\n",
    "* `ax.set_title`\n",
    "   - This attribute sets the text that you want to title the axes plot.\n",
    "* `ax.set_ylim`\n",
    "   - This attribute uses a minimum and maximum value to set the limites of the y-axis.\n",
    "* `ax.set_xlim`\n",
    "   - This attribute uses a minimum and maximum value to set the limites of the x-axis."
   ]
  },
  {
   "cell_type": "code",
   "execution_count": null,
   "metadata": {},
   "outputs": [],
   "source": []
  },
  {
   "cell_type": "markdown",
   "metadata": {},
   "source": [
    "## Saving Figures\n",
    "An important part of creating figures is saving them to use in other contexts, such as a paper or presentation. The pyplot function to save a figure is:\n",
    "\n",
    "```python\n",
    "plt.savefig('figname.png', dpi=150, bbox_inches='tight')\n",
    "```\n",
    "\n",
    "savefig documentation: https://matplotlib.org/stable/api/_as_gen/matplotlib.pyplot.savefig.html\n",
    "\n",
    "The most common format to save your image is a `png`, which stands for portable network graphic, but there are other options including `pdf`, `svg`, `eps`, and `ps`. To save your figure in a particular format, just use the extension on your filename associated with the particular format type. In addition, there are a number of keyword arguments that can be set to alter the look of the saved image. The two that you should commonly use are the `dpi` (dots per inch) setting and `bbox_inches` setting to get rid of excess space surrounding the figure being saved. Note the other way to change the look of your image is by setting the figure size. Making an image larger will help with the resolution."
   ]
  },
  {
   "cell_type": "code",
   "execution_count": null,
   "metadata": {},
   "outputs": [],
   "source": []
  },
  {
   "cell_type": "markdown",
   "metadata": {},
   "source": [
    "## Read Data and Plot\n",
    "Let's do an example that reads in some data then go to plot\n",
    "\n",
    "Let's use some weather data from O'Hare International Airport, available from the RCC ACIS website. This data has been slightly modified for ease of use including adding an additional header line, and converting trace precipitation, T, to a numeric value, 0.0001.\n",
    "\n",
    "http://data.rcc-acis.org/StnData?sid=KORD&sdate=2010-01-01&edate=2010-12-31&elems=mint,avgt,maxt,pcpn,snow,snwd&output=csv"
   ]
  },
  {
   "cell_type": "code",
   "execution_count": null,
   "metadata": {},
   "outputs": [],
   "source": [
    "!head -10 /home/jovyan/pragmatic-python/guides/data/ord_2010_data.csv"
   ]
  },
  {
   "cell_type": "markdown",
   "metadata": {},
   "source": [
    "Need to skip the first two header rows and the dates are going to be problematic to read in using Numpy due to the dashes. We can use a keyword (`usecols`) to avoid reading in that column by specifying only the columns that we want. Let's read in only the data related to the maximum, average, and minimum temperatures (columns 1, 2, and 3)."
   ]
  },
  {
   "cell_type": "code",
   "execution_count": null,
   "metadata": {},
   "outputs": [],
   "source": [
    "ord_data = np.loadtxt('ord_2010_data.csv', skiprows=2, usecols=[1,2,3], delimiter=',')"
   ]
  },
  {
   "cell_type": "markdown",
   "metadata": {},
   "source": [
    "Now let's set up a new array for days using just the integer days (sometimes known as Julian Days). For 2010, there were 365 days in the year. Additionally, we want to pull out just the average temperatures."
   ]
  },
  {
   "cell_type": "code",
   "execution_count": null,
   "metadata": {},
   "outputs": [],
   "source": []
  },
  {
   "cell_type": "markdown",
   "metadata": {},
   "source": [
    "## Exercise #1\n",
    "\n",
    "Starting with the example above, add to the figure the minimum and maximum temperatures in different colors. Additionally, add axis labels and a title that accurately describe the plotted data."
   ]
  },
  {
   "cell_type": "code",
   "execution_count": null,
   "metadata": {},
   "outputs": [],
   "source": []
  },
  {
   "cell_type": "markdown",
   "metadata": {},
   "source": [
    "## Exercise #2\n",
    "On which day was there the greatest range in temperature between the maximum and minimum temperatures? On which day was there the smallest range between the maximum and minimum temperatures?"
   ]
  },
  {
   "cell_type": "code",
   "execution_count": null,
   "metadata": {},
   "outputs": [],
   "source": []
  }
 ],
 "metadata": {
  "kernelspec": {
   "display_name": "Python 3",
   "language": "python",
   "name": "python3"
  },
  "language_info": {
   "codemirror_mode": {
    "name": "ipython",
    "version": 3
   },
   "file_extension": ".py",
   "mimetype": "text/x-python",
   "name": "python",
   "nbconvert_exporter": "python",
   "pygments_lexer": "ipython3",
   "version": "3.7.4"
  }
 },
 "nbformat": 4,
 "nbformat_minor": 5
}
