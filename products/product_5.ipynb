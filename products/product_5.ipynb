{
 "cells": [
  {
   "cell_type": "markdown",
   "id": "672684ea-1e2e-4b03-aa2a-7d2477fd29e7",
   "metadata": {},
   "source": [
    "# Assignment #5\n",
    "\n",
    "This assignment can be completed by adding code to this notebook for each question.\n",
    "\n",
    "Either turn in a single notebook or a series of Python scripts.\n",
    "* If you turn in a single notebook, name it:\n",
    "    * `assignment_5_<username>.ipynb`.\n",
    "* If you turn in a series of Python scripts, name them:\n",
    "    * Question 1: `assignment_5_<username>_q1.py`\n",
    "    * Question 2: `assignment_5_<username>_q2.py`\n",
    "\n",
    "with your `<username>` being your Github login name (e.g., mine is `srmullens`) to /share/share/assignments/. May need to use the Linux terminal and commands.\n",
    "\n",
    "Prior to turning in your notebook, please cleanup and comment your code for each problem. Be sure that your output is self-describing. Grades on questions will assess both the correctness of the output, but also the quality/efficiency of the code. I do not expect you to have the most efficient or highest quality of code, but I would like your best refined code.\n",
    "\n",
    "This assignment is worth 50 points."
   ]
  },
  {
   "cell_type": "code",
   "execution_count": 1,
   "id": "1c49a52b-c8a5-4ca3-ba96-ca874610b7c5",
   "metadata": {},
   "outputs": [],
   "source": [
    "from datetime import datetime\n",
    "\n",
    "import cartopy.crs as ccrs\n",
    "import cartopy.feature as cfeature\n",
    "import cftime\n",
    "import matplotlib.pyplot as plt\n",
    "import numpy as np\n",
    "import xarray as xr"
   ]
  },
  {
   "cell_type": "markdown",
   "id": "4a064837-c3fa-415d-93bc-ab31b2192056",
   "metadata": {},
   "source": [
    "## Question #1\n",
    "(30 points) The product you are to create is a map of u-wind anomalies. Studying the u-wind anomalies over oceans is often used to help diagnose the shear within the atmopshere. Here, you'll be investigating the u-wind anomalies for the north Atlantic Ocean.\n",
    "\n",
    "1. (1 point) Use the `uwnd.2024.nc` file at the link below, which is a netCDF version of a gridded wind data in units of meters per second. Use it to get the 200-hPa u-wind data for 8 October 2024.\n",
    "2. (4 point) Subset your domain to be over the Atlantic Ocean (approximately from Brownsville, TX to the west coast of Africa between the equator and Nova Scotia).\n",
    "3. (10 points) Plot the u-wind in units of knots as contours or color-filled contours on a map, which includes at least the state borders. The map extent should match the data subset.\n",
    "4. (5 points) Add the following locations to your figure as a diamond marker and add the location name as text near the marker.\n",
    "   - Turlington Hall, Gainesville, FL (Text: UF)\n",
    "   - National Hurricane Center, Miami, FL (Text: NHC)\n",
    "   - New Orleans, FL (Text: NOLA)\n",
    "   - Wilmington, NC (Text: Wilmington)\n",
    "   - Henry E Rohlsen Airport (STX), St. Croix (Text: STX)\n",
    "   - Grantley Adams International Airport, Barbados (Text: BGI)\n",
    "   - Praia, Cape Verde (Text: Cape Verde)\n",
    "   - Ponta Delgada, Azores (Text: Azores)\n",
    "   - Dakar, Senegal (Text: Senegal)\n",
    "   - Put a star marker where your house is. No text.\n",
    "5. (5 points) Determine the fastest westerly and easterly winds within the data. Write text at these points saying \"Westerly xx kts\" and \"Easterly xx kts\", respectively. Be sure your vertical and horizontal alignments are both \"center.\" Replace the xx in those quotes with the magnitude of the u-wind.\n",
    "6. (5 points) Appropriately title and label your plot. The figure asthetics (e.g., use of color, linesize, linetype, linewidths, colormaps, etc.) will factor into the grading of the final figure.\n",
    "\n",
    "Input:\n",
    "   - NCEP u-wind observations: https://psl.noaa.gov/thredds/catalog/Datasets/catalog.html\n",
    "   - Select 'ncar' and the uwnd file for this year.\n",
    "\n",
    "Output:\n",
    "   - Figure 1: Plot of 200-hPa u-wind in units of knots with the ten locations identified and labeled, along with the most westerly and easterly wind speeds.\n",
    "   \n",
    "Note: The original data file contains the u-wind in units of meters per second."
   ]
  },
  {
   "cell_type": "code",
   "execution_count": null,
   "id": "d7596ad9-fd3e-4524-ba56-db61378a9a89",
   "metadata": {},
   "outputs": [],
   "source": []
  },
  {
   "cell_type": "markdown",
   "id": "62bfeabc-7039-46a0-be00-c5465c37f6c8",
   "metadata": {},
   "source": [
    "## Question #2\n",
    "(30 points) Sea surface temperatures (SSTs) are an important feature that explains much about the distribution of temperature, precipitation, and thus vegetation around the globe. Owing to parts of the global circulation, a prominent variation in SSTs occurs in the Eastern Pacific Ocean (off the coast of Peru) that are related to changes in the Southern Oscillation Index and the phenomenon we call El Nino and La Nina. El Nino patterns are associated with warmer than normal (a warm anomaly) within the central or eastern Pacific Ocean along the equator. Your task is in evaluating the development of the warm SST anomalies associated with a significant El Nino event in 1997 by creating some graphics detailed below.\n",
    "\n",
    "1. (2 points) Read in OISST daily mean data for 1997 (version 2) and the OISST daily long term mean (LTM) netCDF files.\n",
    "2. (5 points) Plot the global SST daily mean values for the first day of Fall in 1997 (22 September 1997).\n",
    "3. (5 points) Compute the anomaly values for the Eastern Pacific Ocean (25N to 25S; 130E to 70W) for\n",
    "   - 1 February 1997\n",
    "   - 1 April 1997\n",
    "   - 1 June 1997\n",
    "   - 1 August 1997\n",
    "   - 1 October 1997\n",
    "   - 1 December 1997\n",
    "   \n",
    "4. (10 points) Plot each day of the anomaly values on a separate axes on one figure (e.g., you should have six subplots) to demonstrate the evolution of the SST anomalies over the course of the year.\n",
    "5. (3 points) Choose an appropriate colormap for viewing anomaly values (a diverging colormap would be most appropriate)\n",
    "6. (5 points) Determine the maximum anomaly for the Eastern Pacific region for each month identified above and report the maximum value for each subplot in its title.\n",
    "\n",
    "Input Data:\n",
    "  - OISST (Optimum Interpolation SST v2; https://psl.noaa.gov/thredds/catalog/Datasets/noaa.oisst.v2.highres/catalog.html\n",
    "     - Daily Means for 1997: https://psl.noaa.gov/thredds/dodsC/Datasets/noaa.oisst.v2.highres/sst.day.mean.1997.v2.nc\n",
    "     - Daily LTM 1971-1990: https://psl.noaa.gov/thredds/dodsC/Datasets/noaa.oisst.v2.highres/sst.day.mean.ltm.nc\n",
    "     \n",
    "Output:\n",
    "  - Figure 1: Global SST for the first day of fall 1997\n",
    "  - Figure 2: A multipanel plot containing the six monthly SST anomalies\n",
    "  \n",
    "Notes:\n",
    "* For plotting the anomalies over the Eastern Pacific Ocean, you'll likely want to modify your plot projection to be centered over the international date line (180 degree).\n",
    "* You do NOT have to compute all of the anomaly values before plotting. Make good use of looping and/or definitions to help you be effecient in coding your answer. Part of your score on this question will relate to how effecient your code is in accomplishing the task."
   ]
  },
  {
   "cell_type": "code",
   "execution_count": null,
   "id": "e2f777e6-22c9-4258-9ac5-fe2299be18ce",
   "metadata": {},
   "outputs": [],
   "source": []
  }
 ],
 "metadata": {
  "kernelspec": {
   "display_name": "Python 3 (ipykernel)",
   "language": "python",
   "name": "python3"
  },
  "language_info": {
   "codemirror_mode": {
    "name": "ipython",
    "version": 3
   },
   "file_extension": ".py",
   "mimetype": "text/x-python",
   "name": "python",
   "nbconvert_exporter": "python",
   "pygments_lexer": "ipython3",
   "version": "3.11.7"
  }
 },
 "nbformat": 4,
 "nbformat_minor": 5
}
